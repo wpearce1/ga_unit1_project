{
 "cells": [
  {
   "cell_type": "code",
   "execution_count": 12,
   "metadata": {},
   "outputs": [
    {
     "name": "stdout",
     "output_type": "stream",
     "text": [
      "906609\n"
     ]
    }
   ],
   "source": [
    "#Challenge 1: Largest Palindrome\n",
    "#This section of code identifies if a string is a PaLindrome:\n",
    "def Palindrome(n):\n",
    "    s = str(n)\n",
    "    reverseString = \"\"\n",
    "    \n",
    "    for i in range (len(s) - 1, -1, -1):\n",
    "        reverseString += s[i]\n",
    "\n",
    "    return reverseString == s\n",
    "\n",
    "#This section tests the product of three digit numbers starting at 999 and working backwards till a Palendrome is identified:\n",
    "def Biggest_Palindrome():\n",
    "    palindrome = -1\n",
    "    \n",
    "    for i in range (999, 99, -1):\n",
    "        for j in range (i, 99, -1):\n",
    "            \n",
    "            if Palindrome(i * j) and i * j > palindrome:\n",
    "                palindrome = i * j\n",
    "    return palindrome;\n",
    "\n",
    "print (Biggest_Palindrome())"
   ]
  },
  {
   "cell_type": "markdown",
   "metadata": {},
   "source": [
    "The top Function identifies whether a number is a palindrome by turning it into a string and setting the string equal to its reverse. This uses a for loop and range function.\n",
    "\n",
    "The second function tests the product of two three digit numbers starting at 999 and working backwords till a Palendrome is discovered. \n",
    "\n",
    "My code uses 2 for loops and 2 range functions to start at 999 and work back to 99 in increments of 1 and uses the first Palindrome function to check that the number is in fact a palindrome"
   ]
  },
  {
   "cell_type": "code",
   "execution_count": 18,
   "metadata": {},
   "outputs": [
    {
     "name": "stdout",
     "output_type": "stream",
     "text": [
      "277050\n"
     ]
    }
   ],
   "source": [
    "#Challenge 2: Summation of Primes\n",
    "\n",
    "sum_primes = 0\n",
    "max = 2000\n",
    "#Below creates a range starting at 2 including our max of 2000\n",
    "for n in range(2,max + 1):\n",
    "  if all(n % i for i in range(2, n)):\n",
    "    sum_primes += n\n",
    "print (sum_primes)"
   ]
  },
  {
   "cell_type": "markdown",
   "metadata": {},
   "source": [
    "my code identifies 2 variables as the sum of primes and the max number. \n",
    "\n",
    "I then create a range starting at the max variable +1\n",
    "\n",
    "Then using the a for loop and range function I determine all prime numbers then sum them."
   ]
  },
  {
   "cell_type": "code",
   "execution_count": 22,
   "metadata": {},
   "outputs": [
    {
     "name": "stdout",
     "output_type": "stream",
     "text": [
      "233168\n"
     ]
    }
   ],
   "source": [
    "#Challenge 3: Multiples of 3 and 5\n",
    "\n",
    "total_sum = 0\n",
    "for i in range(1000):\n",
    "    if (i%3 == 0 or i%5 == 0):\n",
    "        total_sum = total_sum+i\n",
    "print (total_sum)\n"
   ]
  },
  {
   "cell_type": "markdown",
   "metadata": {},
   "source": [
    "I create a variable called total_sum and a range of 1000. Then using a for look run through the range finding all the number evenly divisible by 3 or 5 and total them. "
   ]
  },
  {
   "cell_type": "code",
   "execution_count": 26,
   "metadata": {},
   "outputs": [
    {
     "name": "stdout",
     "output_type": "stream",
     "text": [
      "d 8a 2b 2c 1"
     ]
    }
   ],
   "source": [
    "#Challenge 4: String Compressor\n",
    "\n",
    "x = \"ddddddddaabbc\"\n",
    "residual = \"\"\n",
    "count = 0\n",
    "while (len(x) > 0):\n",
    "    count = 1\n",
    "    residual = \"\"\n",
    "    for j in range(1, len(x)):\n",
    "        if x[0] == x[j]:\n",
    "            count = count + 1\n",
    "        else: \n",
    "            residual = residual + x[j]\n",
    "    print(x[0],count,end='')\n",
    "    x = residual"
   ]
  },
  {
   "cell_type": "markdown",
   "metadata": {},
   "source": [
    "Using a while loop to identify the count of residual overlapping values in the string then adding them until the length of the string is no longer greater than zero. It then prints the unique values of the string and the number of those occurances. "
   ]
  },
  {
   "cell_type": "code",
   "execution_count": 34,
   "metadata": {},
   "outputs": [
    {
     "name": "stdout",
     "output_type": "stream",
     "text": [
      "1\n",
      "2\n",
      "Fizz\n",
      "4\n",
      "Buzz\n",
      "Fizz\n",
      "7\n",
      "8\n",
      "Fizz\n",
      "Buzz\n",
      "11\n",
      "Fizz\n",
      "13\n",
      "14\n",
      "FizzBuzz\n",
      "16\n",
      "17\n",
      "Fizz\n",
      "19\n",
      "Buzz\n",
      "Fizz\n",
      "22\n",
      "23\n",
      "Fizz\n",
      "Buzz\n",
      "26\n",
      "Fizz\n",
      "28\n",
      "29\n",
      "FizzBuzz\n",
      "31\n",
      "32\n",
      "Fizz\n",
      "34\n",
      "Buzz\n",
      "Fizz\n",
      "37\n",
      "38\n",
      "Fizz\n",
      "Buzz\n",
      "41\n",
      "Fizz\n",
      "43\n",
      "44\n",
      "FizzBuzz\n",
      "46\n",
      "47\n",
      "Fizz\n",
      "49\n",
      "Buzz\n",
      "Fizz\n",
      "52\n",
      "53\n",
      "Fizz\n",
      "Buzz\n",
      "56\n",
      "Fizz\n",
      "58\n",
      "59\n",
      "FizzBuzz\n",
      "61\n",
      "62\n",
      "Fizz\n",
      "64\n",
      "Buzz\n",
      "Fizz\n",
      "67\n",
      "68\n",
      "Fizz\n",
      "Buzz\n",
      "71\n",
      "Fizz\n",
      "73\n",
      "74\n",
      "FizzBuzz\n",
      "76\n",
      "77\n",
      "Fizz\n",
      "79\n",
      "Buzz\n",
      "Fizz\n",
      "82\n",
      "83\n",
      "Fizz\n",
      "Buzz\n",
      "86\n",
      "Fizz\n",
      "88\n",
      "89\n",
      "FizzBuzz\n",
      "91\n",
      "92\n",
      "Fizz\n",
      "94\n",
      "Buzz\n",
      "Fizz\n",
      "97\n",
      "98\n",
      "Fizz\n",
      "Buzz\n"
     ]
    }
   ],
   "source": [
    "#Challenge 5: FizzBuzz\n",
    "\n",
    "for num in range(1,101):\n",
    "    string = \"\"\n",
    "    if num % 3 == 0:\n",
    "        string = string + \"Fizz\"\n",
    "    if num % 5 == 0:\n",
    "        string = string + \"Buzz\"\n",
    "    if num % 5 != 0 and num % 3 != 0:\n",
    "        string = string + str(num)\n",
    "    print(string)"
   ]
  },
  {
   "cell_type": "markdown",
   "metadata": {},
   "source": [
    "this creates a range from 1 through 100, identifies which values are divisible by 3, by 5, and by 3 and 5. It then adds the appropriate text and prints all of the results. "
   ]
  }
 ],
 "metadata": {
  "kernelspec": {
   "display_name": "Python 3",
   "language": "python",
   "name": "python3"
  },
  "language_info": {
   "codemirror_mode": {
    "name": "ipython",
    "version": 3
   },
   "file_extension": ".py",
   "mimetype": "text/x-python",
   "name": "python",
   "nbconvert_exporter": "python",
   "pygments_lexer": "ipython3",
   "version": "3.6.5"
  }
 },
 "nbformat": 4,
 "nbformat_minor": 2
}
